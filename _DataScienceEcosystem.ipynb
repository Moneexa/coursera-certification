{
 "cells": [
  {
   "cell_type": "markdown",
   "id": "ce2477da-e303-4d46-a46d-361f91cbe71d",
   "metadata": {},
   "source": [
    "# Data Science Tools and Ecosystem"
   ]
  },
  {
   "cell_type": "markdown",
   "id": "362bee79-58c5-4852-ac6d-bf27eac5c08d",
   "metadata": {
    "tags": []
   },
   "source": [
    " In this notebook, Data Science Tools and Ecosystem are summarized."
   ]
  },
  {
   "cell_type": "markdown",
   "id": "5eaadfe0-e6c9-4c85-bb2b-bbf4b382ecdf",
   "metadata": {},
   "source": [
    "Some of the popular languages that Data Scientists use are:\n",
    "1. Python\n",
    "2. R\n",
    "3. Java\n",
    "4. Scala\n",
    "5. Javascript\n"
   ]
  },
  {
   "cell_type": "markdown",
   "id": "d3b03a34-c815-4ebb-8bc6-94a9071f93b8",
   "metadata": {
    "tags": []
   },
   "source": [
    "|Data Science Tools |\n",
    "|:--------|\n",
    "|  Apache Spark   | \n",
    "|  SQL   |\n",
    "|  Kibana   |"
   ]
  },
  {
   "cell_type": "markdown",
   "id": "d4fd587c-002e-4da0-9c91-b91eca5c50e9",
   "metadata": {},
   "source": [
    "Some of the commonly used libraries used by Data Scientists include:\n",
    "1. NLTool Kit\n",
    "2. SciKit\n",
    "3. Keras\n"
   ]
  },
  {
   "cell_type": "markdown",
   "id": "3811fd84-9cd4-413d-a159-8f45b967ede1",
   "metadata": {},
   "source": [
    "### Below are a few examples of evaluating arithmetic expressions in Python.\n"
   ]
  },
  {
   "cell_type": "code",
   "execution_count": 2,
   "id": "ee15e3a6-6991-4f8b-b14d-d0e7e2fc80c0",
   "metadata": {
    "tags": []
   },
   "outputs": [
    {
     "name": "stdout",
     "output_type": "stream",
     "text": [
      "17\n"
     ]
    }
   ],
   "source": [
    "# This a simple arithmetic expression to mutiply then add integers\n",
    "output = (3*4)+5\n",
    "print(output)"
   ]
  },
  {
   "cell_type": "code",
   "execution_count": 3,
   "id": "52b1b869-97f5-47d9-aacc-2b957035f3b0",
   "metadata": {
    "tags": []
   },
   "outputs": [
    {
     "name": "stdout",
     "output_type": "stream",
     "text": [
      "3.3333333333333335\n"
     ]
    }
   ],
   "source": [
    "# This will convert 200 minutes to hours by diving by 60\n",
    "converted_time = 200/60\n",
    "print(converted_time)"
   ]
  },
  {
   "cell_type": "markdown",
   "id": "b6b5607e-01ef-4af9-b5ff-a715c39e625d",
   "metadata": {},
   "source": [
    "**Objectives:**\n",
    "\n",
    "* List popular languages for Data Science.\n",
    "* List popular libraries Data Scientists use.\n",
    "* List data science tools.\n",
    "* Compilation of arithematic expressions in python using Jupyter notebook as an editor.\n"
   ]
  },
  {
   "cell_type": "markdown",
   "id": "5179f998-e62b-4d47-b525-0ea75e4d9c77",
   "metadata": {},
   "source": [
    "## Author \n",
    "Moneeza Syed"
   ]
  },
  {
   "cell_type": "code",
   "execution_count": null,
   "id": "17b9546a-10e2-46cf-9f36-e16740a60ae1",
   "metadata": {},
   "outputs": [],
   "source": []
  }
 ],
 "metadata": {
  "kernelspec": {
   "display_name": "Python",
   "language": "python",
   "name": "conda-env-python-py"
  },
  "language_info": {
   "codemirror_mode": {
    "name": "ipython",
    "version": 3
   },
   "file_extension": ".py",
   "mimetype": "text/x-python",
   "name": "python",
   "nbconvert_exporter": "python",
   "pygments_lexer": "ipython3",
   "version": "3.7.12"
  }
 },
 "nbformat": 4,
 "nbformat_minor": 5
}
